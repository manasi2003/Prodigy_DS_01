{
 "cells": [
  {
   "cell_type": "markdown",
   "metadata": {
    "id": "sohdeBhi7jdG"
   },
   "source": [
    "# Importing the required libraries such as pandas, matplotlib, numpy"
   ]
  },
  {
   "cell_type": "code",
   "execution_count": 1,
   "metadata": {
    "id": "trEGAdduvqff"
   },
   "outputs": [],
   "source": [
    "import pandas as pd"
   ]
  },
  {
   "cell_type": "code",
   "execution_count": 2,
   "metadata": {
    "id": "3r3i3MV-v7Ep"
   },
   "outputs": [],
   "source": [
    "import numpy as np"
   ]
  },
  {
   "cell_type": "code",
   "execution_count": 3,
   "metadata": {
    "id": "3VD-q9gDwMYl"
   },
   "outputs": [],
   "source": [
    "import matplotlib.pyplot as plt"
   ]
  },
  {
   "cell_type": "markdown",
   "metadata": {},
   "source": [
    "# Reading the CSV file which has data"
   ]
  },
  {
   "cell_type": "code",
   "execution_count": 4,
   "metadata": {
    "id": "d6m984etv90O"
   },
   "outputs": [],
   "source": [
    "df = pd.read_csv(\"world_population.csv\")"
   ]
  },
  {
   "cell_type": "markdown",
   "metadata": {},
   "source": [
    "# Doing the basic EDA"
   ]
  },
  {
   "cell_type": "code",
   "execution_count": 5,
   "metadata": {
    "colab": {
     "base_uri": "https://localhost:8080/",
     "height": 295
    },
    "id": "XygEDdruwEzr",
    "outputId": "b67c4c23-47c2-4c9d-e34d-2c8cf374173f"
   },
   "outputs": [
    {
     "data": {
      "text/html": [
       "<div>\n",
       "<style scoped>\n",
       "    .dataframe tbody tr th:only-of-type {\n",
       "        vertical-align: middle;\n",
       "    }\n",
       "\n",
       "    .dataframe tbody tr th {\n",
       "        vertical-align: top;\n",
       "    }\n",
       "\n",
       "    .dataframe thead th {\n",
       "        text-align: right;\n",
       "    }\n",
       "</style>\n",
       "<table border=\"1\" class=\"dataframe\">\n",
       "  <thead>\n",
       "    <tr style=\"text-align: right;\">\n",
       "      <th></th>\n",
       "      <th>Rank</th>\n",
       "      <th>CCA3</th>\n",
       "      <th>Country/Territory</th>\n",
       "      <th>Capital</th>\n",
       "      <th>Continent</th>\n",
       "      <th>2022 Population</th>\n",
       "      <th>2020 Population</th>\n",
       "      <th>2015 Population</th>\n",
       "      <th>2010 Population</th>\n",
       "      <th>2000 Population</th>\n",
       "      <th>1990 Population</th>\n",
       "      <th>1980 Population</th>\n",
       "      <th>1970 Population</th>\n",
       "      <th>Area (km²)</th>\n",
       "      <th>Density (per km²)</th>\n",
       "      <th>Growth Rate</th>\n",
       "      <th>World Population Percentage</th>\n",
       "    </tr>\n",
       "  </thead>\n",
       "  <tbody>\n",
       "    <tr>\n",
       "      <th>0</th>\n",
       "      <td>36</td>\n",
       "      <td>AFG</td>\n",
       "      <td>Afghanistan</td>\n",
       "      <td>Kabul</td>\n",
       "      <td>Asia</td>\n",
       "      <td>41128771.0</td>\n",
       "      <td>38972230.0</td>\n",
       "      <td>33753499.0</td>\n",
       "      <td>28189672.0</td>\n",
       "      <td>19542982.0</td>\n",
       "      <td>10694796.0</td>\n",
       "      <td>12486631.0</td>\n",
       "      <td>10752971.0</td>\n",
       "      <td>652230.0</td>\n",
       "      <td>63.0587</td>\n",
       "      <td>1.0257</td>\n",
       "      <td>0.52</td>\n",
       "    </tr>\n",
       "    <tr>\n",
       "      <th>1</th>\n",
       "      <td>138</td>\n",
       "      <td>ALB</td>\n",
       "      <td>Albania</td>\n",
       "      <td>Tirana</td>\n",
       "      <td>Europe</td>\n",
       "      <td>2842321.0</td>\n",
       "      <td>NaN</td>\n",
       "      <td>2882481.0</td>\n",
       "      <td>2913399.0</td>\n",
       "      <td>3182021.0</td>\n",
       "      <td>3295066.0</td>\n",
       "      <td>2941651.0</td>\n",
       "      <td>2324731.0</td>\n",
       "      <td>28748.0</td>\n",
       "      <td>98.8702</td>\n",
       "      <td>0.9957</td>\n",
       "      <td>0.04</td>\n",
       "    </tr>\n",
       "    <tr>\n",
       "      <th>2</th>\n",
       "      <td>34</td>\n",
       "      <td>DZA</td>\n",
       "      <td>Algeria</td>\n",
       "      <td>Algiers</td>\n",
       "      <td>Africa</td>\n",
       "      <td>44903225.0</td>\n",
       "      <td>43451666.0</td>\n",
       "      <td>39543154.0</td>\n",
       "      <td>35856344.0</td>\n",
       "      <td>30774621.0</td>\n",
       "      <td>25518074.0</td>\n",
       "      <td>18739378.0</td>\n",
       "      <td>13795915.0</td>\n",
       "      <td>2381741.0</td>\n",
       "      <td>18.8531</td>\n",
       "      <td>NaN</td>\n",
       "      <td>0.56</td>\n",
       "    </tr>\n",
       "    <tr>\n",
       "      <th>3</th>\n",
       "      <td>213</td>\n",
       "      <td>ASM</td>\n",
       "      <td>American Samoa</td>\n",
       "      <td>Pago Pago</td>\n",
       "      <td>Oceania</td>\n",
       "      <td>44273.0</td>\n",
       "      <td>46189.0</td>\n",
       "      <td>51368.0</td>\n",
       "      <td>54849.0</td>\n",
       "      <td>58230.0</td>\n",
       "      <td>47818.0</td>\n",
       "      <td>32886.0</td>\n",
       "      <td>27075.0</td>\n",
       "      <td>NaN</td>\n",
       "      <td>222.4774</td>\n",
       "      <td>0.9831</td>\n",
       "      <td>0.00</td>\n",
       "    </tr>\n",
       "    <tr>\n",
       "      <th>4</th>\n",
       "      <td>203</td>\n",
       "      <td>AND</td>\n",
       "      <td>Andorra</td>\n",
       "      <td>Andorra la Vella</td>\n",
       "      <td>Europe</td>\n",
       "      <td>NaN</td>\n",
       "      <td>77700.0</td>\n",
       "      <td>71746.0</td>\n",
       "      <td>71519.0</td>\n",
       "      <td>66097.0</td>\n",
       "      <td>53569.0</td>\n",
       "      <td>35611.0</td>\n",
       "      <td>19860.0</td>\n",
       "      <td>468.0</td>\n",
       "      <td>170.5641</td>\n",
       "      <td>1.0100</td>\n",
       "      <td>0.00</td>\n",
       "    </tr>\n",
       "  </tbody>\n",
       "</table>\n",
       "</div>"
      ],
      "text/plain": [
       "   Rank CCA3 Country/Territory           Capital Continent  2022 Population  \\\n",
       "0    36  AFG       Afghanistan             Kabul      Asia       41128771.0   \n",
       "1   138  ALB           Albania            Tirana    Europe        2842321.0   \n",
       "2    34  DZA           Algeria           Algiers    Africa       44903225.0   \n",
       "3   213  ASM    American Samoa         Pago Pago   Oceania          44273.0   \n",
       "4   203  AND           Andorra  Andorra la Vella    Europe              NaN   \n",
       "\n",
       "   2020 Population  2015 Population  2010 Population  2000 Population  \\\n",
       "0       38972230.0       33753499.0       28189672.0       19542982.0   \n",
       "1              NaN        2882481.0        2913399.0        3182021.0   \n",
       "2       43451666.0       39543154.0       35856344.0       30774621.0   \n",
       "3          46189.0          51368.0          54849.0          58230.0   \n",
       "4          77700.0          71746.0          71519.0          66097.0   \n",
       "\n",
       "   1990 Population  1980 Population  1970 Population  Area (km²)  \\\n",
       "0       10694796.0       12486631.0       10752971.0    652230.0   \n",
       "1        3295066.0        2941651.0        2324731.0     28748.0   \n",
       "2       25518074.0       18739378.0       13795915.0   2381741.0   \n",
       "3          47818.0          32886.0          27075.0         NaN   \n",
       "4          53569.0          35611.0          19860.0       468.0   \n",
       "\n",
       "   Density (per km²)  Growth Rate  World Population Percentage  \n",
       "0            63.0587       1.0257                         0.52  \n",
       "1            98.8702       0.9957                         0.04  \n",
       "2            18.8531          NaN                         0.56  \n",
       "3           222.4774       0.9831                         0.00  \n",
       "4           170.5641       1.0100                         0.00  "
      ]
     },
     "execution_count": 5,
     "metadata": {},
     "output_type": "execute_result"
    }
   ],
   "source": [
    "df.head()"
   ]
  },
  {
   "cell_type": "code",
   "execution_count": 6,
   "metadata": {
    "colab": {
     "base_uri": "https://localhost:8080/"
    },
    "id": "h_Yn4ly4wGwW",
    "outputId": "2dafe421-764a-49b3-9d2b-5fc32e2920c2"
   },
   "outputs": [
    {
     "data": {
      "text/plain": [
       "(234, 17)"
      ]
     },
     "execution_count": 6,
     "metadata": {},
     "output_type": "execute_result"
    }
   ],
   "source": [
    "df.shape"
   ]
  },
  {
   "cell_type": "code",
   "execution_count": 7,
   "metadata": {
    "colab": {
     "base_uri": "https://localhost:8080/"
    },
    "id": "pRyjP8m7wSyu",
    "outputId": "dbe6828d-05ba-4b5a-a501-13f3139e8218"
   },
   "outputs": [
    {
     "name": "stdout",
     "output_type": "stream",
     "text": [
      "<class 'pandas.core.frame.DataFrame'>\n",
      "RangeIndex: 234 entries, 0 to 233\n",
      "Data columns (total 17 columns):\n",
      " #   Column                       Non-Null Count  Dtype  \n",
      "---  ------                       --------------  -----  \n",
      " 0   Rank                         234 non-null    int64  \n",
      " 1   CCA3                         234 non-null    object \n",
      " 2   Country/Territory            234 non-null    object \n",
      " 3   Capital                      234 non-null    object \n",
      " 4   Continent                    234 non-null    object \n",
      " 5   2022 Population              214 non-null    float64\n",
      " 6   2020 Population              220 non-null    float64\n",
      " 7   2015 Population              225 non-null    float64\n",
      " 8   2010 Population              219 non-null    float64\n",
      " 9   2000 Population              223 non-null    float64\n",
      " 10  1990 Population              232 non-null    float64\n",
      " 11  1980 Population              229 non-null    float64\n",
      " 12  1970 Population              228 non-null    float64\n",
      " 13  Area (km²)                   226 non-null    float64\n",
      " 14  Density (per km²)            229 non-null    float64\n",
      " 15  Growth Rate                  223 non-null    float64\n",
      " 16  World Population Percentage  226 non-null    float64\n",
      "dtypes: float64(12), int64(1), object(4)\n",
      "memory usage: 31.2+ KB\n"
     ]
    }
   ],
   "source": [
    "df.info()"
   ]
  },
  {
   "cell_type": "code",
   "execution_count": 8,
   "metadata": {
    "colab": {
     "base_uri": "https://localhost:8080/",
     "height": 355
    },
    "id": "x1lDRWK4wngo",
    "outputId": "c9419f74-286a-4c86-b195-65011bfcce60"
   },
   "outputs": [
    {
     "data": {
      "text/html": [
       "<div>\n",
       "<style scoped>\n",
       "    .dataframe tbody tr th:only-of-type {\n",
       "        vertical-align: middle;\n",
       "    }\n",
       "\n",
       "    .dataframe tbody tr th {\n",
       "        vertical-align: top;\n",
       "    }\n",
       "\n",
       "    .dataframe thead th {\n",
       "        text-align: right;\n",
       "    }\n",
       "</style>\n",
       "<table border=\"1\" class=\"dataframe\">\n",
       "  <thead>\n",
       "    <tr style=\"text-align: right;\">\n",
       "      <th></th>\n",
       "      <th>Rank</th>\n",
       "      <th>2022 Population</th>\n",
       "      <th>2020 Population</th>\n",
       "      <th>2015 Population</th>\n",
       "      <th>2010 Population</th>\n",
       "      <th>2000 Population</th>\n",
       "      <th>1990 Population</th>\n",
       "      <th>1980 Population</th>\n",
       "      <th>1970 Population</th>\n",
       "      <th>Area (km²)</th>\n",
       "      <th>Density (per km²)</th>\n",
       "      <th>Growth Rate</th>\n",
       "      <th>World Population Percentage</th>\n",
       "    </tr>\n",
       "  </thead>\n",
       "  <tbody>\n",
       "    <tr>\n",
       "      <th>count</th>\n",
       "      <td>234.000000</td>\n",
       "      <td>2.140000e+02</td>\n",
       "      <td>2.200000e+02</td>\n",
       "      <td>2.250000e+02</td>\n",
       "      <td>2.190000e+02</td>\n",
       "      <td>2.230000e+02</td>\n",
       "      <td>2.320000e+02</td>\n",
       "      <td>2.290000e+02</td>\n",
       "      <td>2.280000e+02</td>\n",
       "      <td>2.260000e+02</td>\n",
       "      <td>229.000000</td>\n",
       "      <td>223.000000</td>\n",
       "      <td>226.000000</td>\n",
       "    </tr>\n",
       "    <tr>\n",
       "      <th>mean</th>\n",
       "      <td>117.500000</td>\n",
       "      <td>3.499537e+07</td>\n",
       "      <td>3.446506e+07</td>\n",
       "      <td>3.256147e+07</td>\n",
       "      <td>3.091226e+07</td>\n",
       "      <td>2.729075e+07</td>\n",
       "      <td>2.289672e+07</td>\n",
       "      <td>1.860701e+07</td>\n",
       "      <td>1.601129e+07</td>\n",
       "      <td>5.823393e+05</td>\n",
       "      <td>429.783947</td>\n",
       "      <td>1.009616</td>\n",
       "      <td>0.437124</td>\n",
       "    </tr>\n",
       "    <tr>\n",
       "      <th>std</th>\n",
       "      <td>67.694165</td>\n",
       "      <td>1.412380e+08</td>\n",
       "      <td>1.396411e+08</td>\n",
       "      <td>1.329201e+08</td>\n",
       "      <td>1.281829e+08</td>\n",
       "      <td>1.143076e+08</td>\n",
       "      <td>9.823392e+07</td>\n",
       "      <td>8.238728e+07</td>\n",
       "      <td>6.865117e+07</td>\n",
       "      <td>1.785241e+06</td>\n",
       "      <td>2045.537923</td>\n",
       "      <td>0.013595</td>\n",
       "      <td>1.744222</td>\n",
       "    </tr>\n",
       "    <tr>\n",
       "      <th>min</th>\n",
       "      <td>1.000000</td>\n",
       "      <td>5.100000e+02</td>\n",
       "      <td>5.200000e+02</td>\n",
       "      <td>5.640000e+02</td>\n",
       "      <td>5.960000e+02</td>\n",
       "      <td>6.510000e+02</td>\n",
       "      <td>7.000000e+02</td>\n",
       "      <td>7.330000e+02</td>\n",
       "      <td>7.520000e+02</td>\n",
       "      <td>1.000000e+00</td>\n",
       "      <td>0.026100</td>\n",
       "      <td>0.912000</td>\n",
       "      <td>0.000000</td>\n",
       "    </tr>\n",
       "    <tr>\n",
       "      <th>25%</th>\n",
       "      <td>59.250000</td>\n",
       "      <td>4.676982e+05</td>\n",
       "      <td>4.035835e+05</td>\n",
       "      <td>3.926970e+05</td>\n",
       "      <td>3.768780e+05</td>\n",
       "      <td>4.145950e+05</td>\n",
       "      <td>2.684912e+05</td>\n",
       "      <td>2.237520e+05</td>\n",
       "      <td>1.672210e+05</td>\n",
       "      <td>3.139750e+03</td>\n",
       "      <td>39.335500</td>\n",
       "      <td>1.001600</td>\n",
       "      <td>0.010000</td>\n",
       "    </tr>\n",
       "    <tr>\n",
       "      <th>50%</th>\n",
       "      <td>117.500000</td>\n",
       "      <td>5.762857e+06</td>\n",
       "      <td>5.493074e+06</td>\n",
       "      <td>5.190356e+06</td>\n",
       "      <td>5.267970e+06</td>\n",
       "      <td>4.548434e+06</td>\n",
       "      <td>3.870460e+06</td>\n",
       "      <td>3.104788e+06</td>\n",
       "      <td>2.604830e+06</td>\n",
       "      <td>7.714100e+04</td>\n",
       "      <td>93.990900</td>\n",
       "      <td>1.007900</td>\n",
       "      <td>0.070000</td>\n",
       "    </tr>\n",
       "    <tr>\n",
       "      <th>75%</th>\n",
       "      <td>175.750000</td>\n",
       "      <td>2.358849e+07</td>\n",
       "      <td>2.129869e+07</td>\n",
       "      <td>1.990608e+07</td>\n",
       "      <td>2.010662e+07</td>\n",
       "      <td>1.626204e+07</td>\n",
       "      <td>1.188971e+07</td>\n",
       "      <td>9.809107e+06</td>\n",
       "      <td>8.728197e+06</td>\n",
       "      <td>4.027532e+05</td>\n",
       "      <td>236.575900</td>\n",
       "      <td>1.017350</td>\n",
       "      <td>0.280000</td>\n",
       "    </tr>\n",
       "    <tr>\n",
       "      <th>max</th>\n",
       "      <td>234.000000</td>\n",
       "      <td>1.425887e+09</td>\n",
       "      <td>1.424930e+09</td>\n",
       "      <td>1.393715e+09</td>\n",
       "      <td>1.348191e+09</td>\n",
       "      <td>1.264099e+09</td>\n",
       "      <td>1.153704e+09</td>\n",
       "      <td>9.823725e+08</td>\n",
       "      <td>8.225344e+08</td>\n",
       "      <td>1.709824e+07</td>\n",
       "      <td>23172.266700</td>\n",
       "      <td>1.069100</td>\n",
       "      <td>17.880000</td>\n",
       "    </tr>\n",
       "  </tbody>\n",
       "</table>\n",
       "</div>"
      ],
      "text/plain": [
       "             Rank  2022 Population  2020 Population  2015 Population  \\\n",
       "count  234.000000     2.140000e+02     2.200000e+02     2.250000e+02   \n",
       "mean   117.500000     3.499537e+07     3.446506e+07     3.256147e+07   \n",
       "std     67.694165     1.412380e+08     1.396411e+08     1.329201e+08   \n",
       "min      1.000000     5.100000e+02     5.200000e+02     5.640000e+02   \n",
       "25%     59.250000     4.676982e+05     4.035835e+05     3.926970e+05   \n",
       "50%    117.500000     5.762857e+06     5.493074e+06     5.190356e+06   \n",
       "75%    175.750000     2.358849e+07     2.129869e+07     1.990608e+07   \n",
       "max    234.000000     1.425887e+09     1.424930e+09     1.393715e+09   \n",
       "\n",
       "       2010 Population  2000 Population  1990 Population  1980 Population  \\\n",
       "count     2.190000e+02     2.230000e+02     2.320000e+02     2.290000e+02   \n",
       "mean      3.091226e+07     2.729075e+07     2.289672e+07     1.860701e+07   \n",
       "std       1.281829e+08     1.143076e+08     9.823392e+07     8.238728e+07   \n",
       "min       5.960000e+02     6.510000e+02     7.000000e+02     7.330000e+02   \n",
       "25%       3.768780e+05     4.145950e+05     2.684912e+05     2.237520e+05   \n",
       "50%       5.267970e+06     4.548434e+06     3.870460e+06     3.104788e+06   \n",
       "75%       2.010662e+07     1.626204e+07     1.188971e+07     9.809107e+06   \n",
       "max       1.348191e+09     1.264099e+09     1.153704e+09     9.823725e+08   \n",
       "\n",
       "       1970 Population    Area (km²)  Density (per km²)  Growth Rate  \\\n",
       "count     2.280000e+02  2.260000e+02         229.000000   223.000000   \n",
       "mean      1.601129e+07  5.823393e+05         429.783947     1.009616   \n",
       "std       6.865117e+07  1.785241e+06        2045.537923     0.013595   \n",
       "min       7.520000e+02  1.000000e+00           0.026100     0.912000   \n",
       "25%       1.672210e+05  3.139750e+03          39.335500     1.001600   \n",
       "50%       2.604830e+06  7.714100e+04          93.990900     1.007900   \n",
       "75%       8.728197e+06  4.027532e+05         236.575900     1.017350   \n",
       "max       8.225344e+08  1.709824e+07       23172.266700     1.069100   \n",
       "\n",
       "       World Population Percentage  \n",
       "count                   226.000000  \n",
       "mean                      0.437124  \n",
       "std                       1.744222  \n",
       "min                       0.000000  \n",
       "25%                       0.010000  \n",
       "50%                       0.070000  \n",
       "75%                       0.280000  \n",
       "max                      17.880000  "
      ]
     },
     "execution_count": 8,
     "metadata": {},
     "output_type": "execute_result"
    }
   ],
   "source": [
    "df.describe()"
   ]
  },
  {
   "cell_type": "code",
   "execution_count": 9,
   "metadata": {
    "colab": {
     "base_uri": "https://localhost:8080/"
    },
    "id": "9fSt4QMcwvBc",
    "outputId": "3ecc7661-d43f-4fc2-ae67-15ab2bc6dd1e"
   },
   "outputs": [
    {
     "data": {
      "text/plain": [
       "Rank                            0\n",
       "CCA3                            0\n",
       "Country/Territory               0\n",
       "Capital                         0\n",
       "Continent                       0\n",
       "2022 Population                20\n",
       "2020 Population                14\n",
       "2015 Population                 9\n",
       "2010 Population                15\n",
       "2000 Population                11\n",
       "1990 Population                 2\n",
       "1980 Population                 5\n",
       "1970 Population                 6\n",
       "Area (km²)                      8\n",
       "Density (per km²)               5\n",
       "Growth Rate                    11\n",
       "World Population Percentage     8\n",
       "dtype: int64"
      ]
     },
     "execution_count": 9,
     "metadata": {},
     "output_type": "execute_result"
    }
   ],
   "source": [
    "df.isnull().sum()"
   ]
  },
  {
   "cell_type": "code",
   "execution_count": 10,
   "metadata": {
    "colab": {
     "base_uri": "https://localhost:8080/"
    },
    "id": "oNfCvzoxxC0H",
    "outputId": "d7f73112-12af-4a19-fc87-be17123cd219"
   },
   "outputs": [
    {
     "data": {
      "text/plain": [
       "Rank                           234\n",
       "CCA3                           234\n",
       "Country/Territory              234\n",
       "Capital                        234\n",
       "Continent                      234\n",
       "2022 Population                214\n",
       "2020 Population                220\n",
       "2015 Population                225\n",
       "2010 Population                219\n",
       "2000 Population                223\n",
       "1990 Population                232\n",
       "1980 Population                229\n",
       "1970 Population                228\n",
       "Area (km²)                     226\n",
       "Density (per km²)              229\n",
       "Growth Rate                    223\n",
       "World Population Percentage    226\n",
       "dtype: int64"
      ]
     },
     "execution_count": 10,
     "metadata": {},
     "output_type": "execute_result"
    }
   ],
   "source": [
    "df.notnull().sum()"
   ]
  },
  {
   "cell_type": "markdown",
   "metadata": {},
   "source": [
    "# Replacing NaN values with mean value"
   ]
  },
  {
   "cell_type": "code",
   "execution_count": 11,
   "metadata": {
    "id": "WjBnpXqK0iv7"
   },
   "outputs": [],
   "source": [
    "columns_to_average = [\"2022 Population\", \"2020 Population\", \"2015 Population\", \"2010 Population\", \"2000 Population\", \"1990 Population\", \"1980 Population\", \"1970 Population\", \"Area (km²)\", \"Density (per km²)\", \"Growth Rate\", \"World Population Percentage\"]\n",
    "\n",
    "avg = df[columns_to_average].astype(\"float\").mean(axis=0).tolist()\n",
    "\n",
    "df[columns_to_average] = df[columns_to_average].fillna(value=dict(zip(columns_to_average, avg)))\n",
    "\n"
   ]
  },
  {
   "cell_type": "code",
   "execution_count": 12,
   "metadata": {
    "colab": {
     "base_uri": "https://localhost:8080/"
    },
    "id": "EhxDFVJm2JQT",
    "outputId": "22e5ff23-0d79-4652-dca1-7be8a3a2e4e5"
   },
   "outputs": [
    {
     "data": {
      "text/plain": [
       "Rank                           0\n",
       "CCA3                           0\n",
       "Country/Territory              0\n",
       "Capital                        0\n",
       "Continent                      0\n",
       "2022 Population                0\n",
       "2020 Population                0\n",
       "2015 Population                0\n",
       "2010 Population                0\n",
       "2000 Population                0\n",
       "1990 Population                0\n",
       "1980 Population                0\n",
       "1970 Population                0\n",
       "Area (km²)                     0\n",
       "Density (per km²)              0\n",
       "Growth Rate                    0\n",
       "World Population Percentage    0\n",
       "dtype: int64"
      ]
     },
     "execution_count": 12,
     "metadata": {},
     "output_type": "execute_result"
    }
   ],
   "source": [
    "df.isnull().sum()"
   ]
  },
  {
   "cell_type": "code",
   "execution_count": 13,
   "metadata": {
    "colab": {
     "base_uri": "https://localhost:8080/"
    },
    "id": "m9gIrRhR5iBw",
    "outputId": "2458a856-b2cd-4c65-f97e-5b985ee4ad22"
   },
   "outputs": [
    {
     "data": {
      "text/plain": [
       "Index(['Rank', 'CCA3', 'Country/Territory', 'Capital', 'Continent',\n",
       "       '2022 Population', '2020 Population', '2015 Population',\n",
       "       '2010 Population', '2000 Population', '1990 Population',\n",
       "       '1980 Population', '1970 Population', 'Area (km²)', 'Density (per km²)',\n",
       "       'Growth Rate', 'World Population Percentage'],\n",
       "      dtype='object')"
      ]
     },
     "execution_count": 13,
     "metadata": {},
     "output_type": "execute_result"
    }
   ],
   "source": [
    "df.columns"
   ]
  },
  {
   "cell_type": "markdown",
   "metadata": {},
   "source": [
    "# Plotting a histogram between quantity & frequency"
   ]
  },
  {
   "cell_type": "code",
   "execution_count": 14,
   "metadata": {
    "colab": {
     "base_uri": "https://localhost:8080/",
     "height": 652
    },
    "id": "81ObAU3M61JC",
    "outputId": "a6da4ca9-bf1d-4b41-9116-6c2d156fabce"
   },
   "outputs": [
    {
     "data": {
      "image/png": "[encoded data removed]",
      "text/plain": [
       "<Figure size 1000x600 with 1 Axes>"
      ]
     },
     "metadata": {},
     "output_type": "display_data"
    }
   ],
   "source": [
    "import matplotlib.pyplot as plt\n",
    "import pandas as pd\n",
    "\n",
    "df = pd.read_csv(\"world_population.csv\")\n",
    "\n",
    "\n",
    "categorical_column = 'Continent'\n",
    "\n",
    "\n",
    "plt.figure(figsize=(10, 6))\n",
    "df[categorical_column].value_counts().plot(kind='bar', color='skyblue')\n",
    "plt.title(f'Bar Chart of {categorical_column}')\n",
    "plt.xlabel(categorical_column)\n",
    "plt.ylabel('Frequency')\n",
    "plt.show()\n",
    "\n"
   ]
  }
 ],
 "metadata": {
  "colab": {
   "provenance": []
  },
  "kernelspec": {
   "display_name": "Python 3 (ipykernel)",
   "language": "python",
   "name": "python3"
  },
  "language_info": {
   "codemirror_mode": {
    "name": "ipython",
    "version": 3
   },
   "file_extension": ".py",
   "mimetype": "text/x-python",
   "name": "python",
   "nbconvert_exporter": "python",
   "pygments_lexer": "ipython3",
   "version": "3.10.4"
  }
 },
 "nbformat": 4,
 "nbformat_minor": 1
}
